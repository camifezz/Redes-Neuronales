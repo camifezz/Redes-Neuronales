{
 "cells": [
  {
   "cell_type": "code",
   "execution_count": 1,
   "id": "a78a560b",
   "metadata": {},
   "outputs": [],
   "source": [
    "import pandas as pd\n",
    "import numpy as np\n",
    "import matplotlib.pyplot as plt\n",
    "from skimage import io, util, transform\n",
    "from PIL import Image"
   ]
  },
  {
   "cell_type": "markdown",
   "id": "8d331d26",
   "metadata": {},
   "source": [
    "# 1. Entrene una red de Hopfield ‘82 con un conjunto de imágenes binarias."
   ]
  },
  {
   "cell_type": "markdown",
   "id": "55de0b6c",
   "metadata": {},
   "source": [
    "Recordatorios de tamaños\n",
    "\n",
    "El vector de la imagen original aplanada → (N,).\n",
    "\n",
    "El vector de la imagen con ruido (x0) → (N,).\n",
    "\n",
    "La matriz de pesos W → (N, N).\n",
    "\n",
    "Todas las imagenes tienen que tener el mismo tamaño"
   ]
  },
  {
   "cell_type": "markdown",
   "id": "301088ed",
   "metadata": {},
   "source": [
    "1. Preprocesar los patrones. Las imagenes son binarias, están en 0 (negro) y 1/255 (blanco).\n",
    "\n",
    "    Las redes de Holpfield trabajan con +1/-1\n",
    "\n",
    "    Tengo que aplicar una función signo que se aplique a cada imagen. \n",
    "\n",
    "2. Aplanar los patrones\n",
    "    La red Hopfield funciona con vectores de tamaño N (uno por neurona).\n",
    "\n",
    "    Si la imagen es de 28x28, el vector tendrá 784 entradas.\n",
    "    Convierto una matriz de 3D o 2D a un vector de 1D"
   ]
  },
  {
   "cell_type": "code",
   "execution_count": null,
   "id": "974e39de",
   "metadata": {},
   "outputs": [],
   "source": [
    "import numpy as np\n",
    "from PIL import Image\n",
    "\n",
    "def preparar_patterns(img_list: list, size=(45,60)) -> np.ndarray:\n",
    "    img_aplanadas_vec = []\n",
    "    for arr in img_list:\n",
    "        img = Image.fromarray(arr).convert(\"L\")\n",
    "        img = img.resize(size, resample=Image.NEAREST)\n",
    "        arr = np.array(img, dtype=np.uint8)          \n",
    "\n",
    "        threshold = 200\n",
    "        bin01 = (arr < threshold).astype(np.uint8)\n",
    "        signo = (bin01 * 2 - 1).astype(np.int8)\n",
    "        vec = signo.reshape(-1)\n",
    "        img_aplanadas_vec.append(vec)\n",
    "\n",
    "    patterns = np.stack(img_aplanadas_vec)\n",
    "    return patterns"
   ]
  },
  {
   "cell_type": "code",
   "execution_count": 3,
   "id": "669534a8",
   "metadata": {},
   "outputs": [],
   "source": [
    "def calcular_matriz_conn(patterns):\n",
    "    P, N = patterns.shape\n",
    "    W = np.zeros((N, N), dtype=np.float32)\n",
    "    for p in patterns:\n",
    "        W += np.outer(p, p)\n",
    "    W /= P\n",
    "    np.fill_diagonal(W, 0.0)\n",
    "    return 0.5 * (W + W.T)"
   ]
  },
  {
   "cell_type": "code",
   "execution_count": null,
   "id": "f7980ba4",
   "metadata": {},
   "outputs": [],
   "source": [
    "def agg_ruido_img(img_1d: np.ndarray, frac: float, rng=None) -> np.ndarray:\n",
    "    rng = rng or np.random.default_rng()\n",
    "    x = img_1d.reshape(-1)  \n",
    "    y = x.copy()\n",
    "    k = int(round(frac * x.size))\n",
    "    if k > 0:\n",
    "        idx = rng.choice(x.size, k, replace=False)\n",
    "        y[idx] *= -1\n",
    "    return y\n",
    "\n",
    "\n",
    "import numpy as np\n",
    "\n",
    "def borrar_img(vec: np.ndarray, frac: float, shape: tuple, axis: str = \"cols\") -> np.ndarray:\n",
    "    \"\"\"\n",
    "    Borra un porcentaje de la imagen (pone -1 en esa región).\n",
    "    \n",
    "    vec   : patrón 1D en {-1,+1}\n",
    "    frac  : fracción a borrar (0..1)\n",
    "    shape : (alto, ancho) de la imagen\n",
    "    axis  : \"cols\" para columnas, \"rows\" para filas\n",
    "    \n",
    "    Devuelve: nuevo vector 1D con parte borrada\n",
    "    \"\"\"\n",
    "    img = vec.reshape(shape).copy()\n",
    "\n",
    "    H, W = shape\n",
    "    if axis == \"cols\":\n",
    "        n_cols = int(W * frac)\n",
    "        img[:, -n_cols:] = -1\n",
    "    elif axis == \"rows\":\n",
    "        n_rows = int(H * frac)\n",
    "        img[-n_rows:, :] = -1\n",
    "    else:\n",
    "        raise ValueError(\"axis debe ser 'cols' o 'rows'\")\n",
    "\n",
    "    return img.reshape(-1)\n"
   ]
  },
  {
   "cell_type": "code",
   "execution_count": 5,
   "id": "bf8fd83f",
   "metadata": {},
   "outputs": [],
   "source": [
    "def mostrar_patron(vec, shape, titulo=\"\"):\n",
    "    \"\"\"\n",
    "    vec   : patrón 1D en {-1,+1}\n",
    "    shape : (alto, ancho) de la imagen\n",
    "    \"\"\"\n",
    "    img = vec.reshape(shape)\n",
    "    # mapear {-1,1} a {255,0} → blanco/negro\n",
    "    img = ((-img + 1) * 127.5).astype(np.uint8)\n",
    "\n",
    "    plt.imshow(img, cmap=\"gray\")\n",
    "    plt.title(titulo)\n",
    "    plt.axis(\"off\")"
   ]
  },
  {
   "cell_type": "code",
   "execution_count": 6,
   "id": "df0d47b5",
   "metadata": {},
   "outputs": [],
   "source": [
    "def update_sync(s, W):\n",
    "    s = s.reshape(-1).astype(np.int8)\n",
    "    h = W @ s\n",
    "    out = np.sign(h).astype(np.int8)\n",
    "    out[out == 0] = s[out == 0]\n",
    "    return out\n",
    "\n",
    "def update_async(s, W):\n",
    "    y = s.reshape(-1).copy().astype(np.int8)\n",
    "    N = y.size\n",
    "    for i in np.random.permutation(N):\n",
    "        h_i = np.dot(W[i, :], y)\n",
    "        if   h_i > 0: y[i] =  1\n",
    "        elif h_i < 0: y[i] = -1\n",
    "    return y\n",
    "\n",
    "\n",
    "def Hopfield_train(x0: np.ndarray, W: np.ndarray, mode: str = \"async\"):\n",
    "    s = x0.copy()\n",
    "    sweeps = 0\n",
    "    if mode == \"async\":\n",
    "        while True:\n",
    "            sweeps += 1\n",
    "            s_new = update_async(s, W)\n",
    "            if np.array_equal(s_new, s):\n",
    "                return s_new, sweeps, True, False\n",
    "            s = s_new\n",
    "    elif mode == \"sync\":\n",
    "        s_prev = None\n",
    "        while True:\n",
    "            sweeps += 1\n",
    "            s_new = update_sync(s, W)\n",
    "            if np.array_equal(s_new, s):\n",
    "                return s_new, sweeps, True, False\n",
    "            if s_prev is not None and np.array_equal(s_new, s_prev):\n",
    "                return s_new, sweeps, True, True\n",
    "            s_prev, s = s, s_new\n",
    "    else:\n",
    "        raise ValueError(\"mode debe ser 'async' o 'sync'\")\n"
   ]
  },
  {
   "cell_type": "markdown",
   "id": "98d379e6",
   "metadata": {},
   "source": [
    "#### Selecciono a las imagenes con el tamaño de (45, 60) y hago el primer entrenamiento de la red"
   ]
  },
  {
   "cell_type": "markdown",
   "id": "d510cb71",
   "metadata": {},
   "source": [
    "# Punto a"
   ]
  },
  {
   "cell_type": "code",
   "execution_count": null,
   "id": "2e7571b4",
   "metadata": {},
   "outputs": [],
   "source": [
    "import os\n",
    "images = []\n",
    "images_shape = []\n",
    "#files = ['dataset/paloma.bmp', 'dataset/panda.bmp', 'dataset/perro.bmp',\n",
    "#         'dataset/quijote.bmp', 'dataset/torero.bmp', 'dataset/v.bmp']\n",
    "files = ['dataset/paloma.bmp','dataset/quijote.bmp', 'dataset/torero.bmp']\n",
    "\n",
    "for data in files:\n",
    "    if '.bmp' in data:\n",
    "        image = io.imread(data)\n",
    "        images.append(image)\n",
    "        images_shape.append(image.shape)\n",
    "images_shape = list(set(images_shape))\n",
    "print(images_shape)"
   ]
  },
  {
   "cell_type": "code",
   "execution_count": null,
   "id": "6dce2e04",
   "metadata": {},
   "outputs": [],
   "source": [
    "images_train = [] \n",
    "for image in images:\n",
    "    if image.shape == images_shape[0]:\n",
    "        images_train.append(image)"
   ]
  },
  {
   "cell_type": "code",
   "execution_count": null,
   "id": "422bfd44",
   "metadata": {},
   "outputs": [],
   "source": [
    "images_train"
   ]
  },
  {
   "cell_type": "code",
   "execution_count": null,
   "id": "144b2b93",
   "metadata": {},
   "outputs": [],
   "source": [
    "H, W = images_shape[0]\n",
    "patterns = preparar_patterns(images_train, size=(W, H))  # PIL usa (W,H)\n",
    "\n",
    "W_hopfield = calcular_matriz_conn(patterns)\n"
   ]
  },
  {
   "cell_type": "code",
   "execution_count": null,
   "id": "2eaaea4f",
   "metadata": {},
   "outputs": [],
   "source": [
    "patterns"
   ]
  },
  {
   "cell_type": "code",
   "execution_count": null,
   "id": "093a52a6",
   "metadata": {},
   "outputs": [],
   "source": [
    "x0 = patterns[0].copy()  # vector ±1\n",
    "# correr Hopfield\n",
    "s_final, sweeps, converged, two_cycle = Hopfield_train(x0, W_hopfield, mode=\"async\")"
   ]
  },
  {
   "cell_type": "code",
   "execution_count": null,
   "id": "ec00aca4",
   "metadata": {},
   "outputs": [],
   "source": [
    "H, W = images_shape[0]   \n",
    "x0_img = x0.reshape(H, W)\n",
    "\n",
    "plt.figure(figsize=(8,4))\n",
    "\n",
    "plt.subplot(1,2,1)\n",
    "mostrar_patron(x0_img, (H, W), \"Patrón inicial\")\n",
    "\n",
    "plt.subplot(1,2,2)\n",
    "mostrar_patron(s_final, (H, W), \"Imagen recuperada\")\n",
    "\n",
    "plt.show()"
   ]
  },
  {
   "cell_type": "markdown",
   "id": "1ebf34cf",
   "metadata": {},
   "source": [
    "# Punto b (Le agrego ruido a las imagenes)"
   ]
  },
  {
   "cell_type": "code",
   "execution_count": null,
   "id": "9818dce5",
   "metadata": {},
   "outputs": [],
   "source": [
    "import os\n",
    "images = []\n",
    "images_shape = []\n",
    "files = ['dataset/panda.bmp', 'dataset/perro.bmp', 'dataset/v.bmp']\n",
    "\n",
    "for data in files:\n",
    "    if '.bmp' in data:\n",
    "        image = io.imread(data)\n",
    "        images.append(image)\n",
    "        images_shape.append(image.shape)\n",
    "images_shape = list(set(images_shape))\n",
    "print(images_shape)"
   ]
  },
  {
   "cell_type": "code",
   "execution_count": null,
   "id": "22eaf379",
   "metadata": {},
   "outputs": [],
   "source": [
    "images_train = [] \n",
    "for image in images:\n",
    "    if image.shape == images_shape[0]:\n",
    "        images_train.append(image)"
   ]
  },
  {
   "cell_type": "code",
   "execution_count": null,
   "id": "3d15d2d2",
   "metadata": {},
   "outputs": [],
   "source": [
    "images_train"
   ]
  },
  {
   "cell_type": "code",
   "execution_count": null,
   "id": "cd490102",
   "metadata": {},
   "outputs": [],
   "source": [
    "H, W = images_shape[0]\n",
    "patterns = preparar_patterns(images_train, size=(W, H))  \n",
    "W_hopfield = calcular_matriz_conn(patterns)\n",
    "x0 = patterns[2].copy()  # vector ±1\n",
    "x0_ruido = agg_ruido_img(x0, 0.2)\n",
    "# correr Hopfield\n",
    "s_final, sweeps, converged, two_cycle = Hopfield_train(x0_ruido, W_hopfield, mode=\"async\")\n"
   ]
  },
  {
   "cell_type": "code",
   "execution_count": null,
   "id": "ea4fe7de",
   "metadata": {},
   "outputs": [],
   "source": [
    "H, W = images_shape[0]   \n",
    "x0_img = s_final.reshape(H, W)\n",
    "\n",
    "plt.figure(figsize=(8,4))\n",
    "\n",
    "plt.subplot(1,2,2)\n",
    "mostrar_patron(x0_img, (H, W), \"Patrón recuperado\")\n",
    "\n",
    "plt.subplot(1,2,1)\n",
    "mostrar_patron(x0_ruido, (H, W), \"Patrón con ruido\")\n",
    "\n",
    "plt.show() "
   ]
  },
  {
   "cell_type": "code",
   "execution_count": null,
   "id": "992cfdd4",
   "metadata": {},
   "outputs": [],
   "source": [
    "H, W = images_shape[0]\n",
    "patterns = preparar_patterns(images_train, size=(W, H))  \n",
    "W_hopfield = calcular_matriz_conn(patterns)\n",
    "x0 = patterns[0].copy()  # vector ±1\n",
    "x0_borrado = borrar_img(x0, 0.9, (H, W), axis=\"cols\")\n",
    "# correr Hopfield\n",
    "s_final, sweeps, converged, two_cycle = Hopfield_train(x0_borrado, W_hopfield, mode=\"async\")"
   ]
  },
  {
   "cell_type": "code",
   "execution_count": null,
   "id": "88c1d661",
   "metadata": {},
   "outputs": [],
   "source": [
    "H, W = images_shape[0]   \n",
    "x0_img = s_final.reshape(H, W)\n",
    "\n",
    "plt.figure(figsize=(8,4))\n",
    "\n",
    "plt.subplot(1,2,1)\n",
    "mostrar_patron(x0_borrado, (H, W), \"Patrón Borrado\")\n",
    "\n",
    "plt.subplot(1,2,2)\n",
    "mostrar_patron(x0_img, (H, W), \"Patrón recuperado\")\n",
    "\n",
    "plt.show() "
   ]
  },
  {
   "cell_type": "markdown",
   "id": "50539fe4",
   "metadata": {},
   "source": [
    "# Punto C"
   ]
  },
  {
   "cell_type": "code",
   "execution_count": null,
   "id": "e67111d1",
   "metadata": {},
   "outputs": [],
   "source": [
    "import os\n",
    "images = []\n",
    "images_shape = []\n",
    "files = ['dataset/panda.bmp', 'dataset/perro.bmp', 'dataset/v.bmp']\n",
    "\n",
    "for data in files:\n",
    "    if '.bmp' in data:\n",
    "        image = io.imread(data)\n",
    "        images.append(image)\n",
    "        images_shape.append(image.shape)\n",
    "images_shape = list(set(images_shape))\n",
    "print(images_shape)"
   ]
  },
  {
   "cell_type": "code",
   "execution_count": null,
   "id": "254f8263",
   "metadata": {},
   "outputs": [],
   "source": [
    "images_train = [] \n",
    "for image in images:\n",
    "    if image.shape == images_shape[0]:\n",
    "        images_train.append(image)"
   ]
  },
  {
   "cell_type": "code",
   "execution_count": null,
   "id": "42031398",
   "metadata": {},
   "outputs": [],
   "source": [
    "H, W = images_shape[0]\n",
    "patterns = preparar_patterns(images_train, size=(W, H))\n",
    "W_hopfield = calcular_matriz_conn(patterns)"
   ]
  },
  {
   "cell_type": "code",
   "execution_count": null,
   "id": "66cfc8a3",
   "metadata": {},
   "outputs": [],
   "source": [
    "x0 = patterns[2].copy()  # vector ±1\n",
    "x0_inverso = -x0"
   ]
  },
  {
   "cell_type": "code",
   "execution_count": null,
   "id": "d18d29b2",
   "metadata": {},
   "outputs": [],
   "source": [
    "\n",
    "# correr Hopfield\n",
    "s_final, sweeps, converged, two_cycle = Hopfield_train(x0_inverso, W_hopfield, mode=\"async\")"
   ]
  },
  {
   "cell_type": "code",
   "execution_count": null,
   "id": "d85991a9",
   "metadata": {},
   "outputs": [],
   "source": [
    "H, W = images_shape[0]   \n",
    "x0_img = s_final.reshape(H, W)\n",
    "\n",
    "plt.figure(figsize=(8,4))\n",
    "\n",
    "plt.subplot(1,2,1)\n",
    "mostrar_patron(x0_inverso, (H, W), \"Patrón inverso presentado\")\n",
    "\n",
    "plt.subplot(1,2,2)\n",
    "mostrar_patron(x0_img, (H, W), \"Patrón recuperado\")\n",
    "\n",
    "plt.show() "
   ]
  },
  {
   "cell_type": "code",
   "execution_count": null,
   "id": "4a12ceca",
   "metadata": {},
   "outputs": [],
   "source": [
    "x_mix = np.sign(patterns[0] + patterns[1] + patterns[2]).astype(np.int8)"
   ]
  },
  {
   "cell_type": "code",
   "execution_count": null,
   "id": "8ad3d5bb",
   "metadata": {},
   "outputs": [],
   "source": [
    "s_final, sweeps, conv, cycle = Hopfield_train(x_mix, W_hopfield, mode=\"async\")"
   ]
  },
  {
   "cell_type": "code",
   "execution_count": null,
   "id": "a848a481",
   "metadata": {},
   "outputs": [],
   "source": [
    "H, W = images_shape[0]   \n",
    "x0_img = s_final.reshape(H, W)\n",
    "\n",
    "plt.figure(figsize=(8,4))\n",
    "\n",
    "plt.subplot(1,2,1)\n",
    "mostrar_patron(x_mix, (H, W), \"Patrón combinado presentado\")\n",
    "\n",
    "plt.subplot(1,2,2)\n",
    "mostrar_patron(x0_img, (H, W), \"Patrón recuperado\")\n",
    "\n",
    "plt.show() "
   ]
  },
  {
   "cell_type": "markdown",
   "id": "dd54abe5",
   "metadata": {},
   "source": [
    "# Punto d"
   ]
  },
  {
   "cell_type": "code",
   "execution_count": null,
   "id": "860338f8",
   "metadata": {},
   "outputs": [],
   "source": [
    "from PIL import Image\n",
    "import numpy as np\n",
    "from skimage import io  # si ya lo estabas usando\n",
    "\n",
    "# --- helper: redimensiona manteniendo aspecto y completa con blanco a 50x50 ---\n",
    "def normalize_to_box(arr: np.ndarray, box=(50, 50)) -> np.ndarray:\n",
    "    \"\"\"\n",
    "    arr: imagen como np.array (grises o RGB)\n",
    "    box: (W, H) tamaño destino\n",
    "    return: np.array uint8 (H, W) 50x50 en gris, con padding blanco si hace falta\n",
    "    \"\"\"\n",
    "    Wt, Ht = box\n",
    "    img = Image.fromarray(arr).convert(\"L\")\n",
    "    w, h = img.size\n",
    "    scale = min(Wt / w, Ht / h)\n",
    "    new_w = max(1, int(round(w * scale)))\n",
    "    new_h = max(1, int(round(h * scale)))\n",
    "    img_res = img.resize((new_w, new_h), resample=Image.NEAREST)\n",
    "\n",
    "    canvas = Image.new(\"L\", (Wt, Ht), color=255)   # fondo blanco\n",
    "    off_x = (Wt - new_w) // 2\n",
    "    off_y = (Ht - new_h) // 2\n",
    "    canvas.paste(img_res, (off_x, off_y))\n",
    "    return np.array(canvas, dtype=np.uint8)\n",
    "\n",
    "\n",
    "import os\n",
    "images = []\n",
    "images_shape = []\n",
    "files = ['dataset/panda.bmp', 'dataset/perro.bmp', 'dataset/v.bmp',\n",
    "         'dataset/paloma.bmp','dataset/quijote.bmp', 'dataset/torero.bmp']\n",
    "\n",
    "for path in files:\n",
    "    if path.endswith('.bmp'):\n",
    "        img = io.imread(path)\n",
    "        images.append(img)\n",
    "        images_shape.append(img.shape)\n",
    "\n",
    "images_shape = list(set(images_shape))\n",
    "print(images_shape)\n",
    "\n",
    "# Normalizo TODAS a 50x50 \n",
    "images_train = [normalize_to_box(img, box=(50, 50)) for img in images]\n"
   ]
  },
  {
   "cell_type": "code",
   "execution_count": null,
   "id": "1e1442c0",
   "metadata": {},
   "outputs": [],
   "source": [
    "patterns = preparar_patterns(images_train, size=(50, 50))  \n",
    "W_hopfield = calcular_matriz_conn(patterns)"
   ]
  },
  {
   "cell_type": "code",
   "execution_count": null,
   "id": "cac2c776",
   "metadata": {},
   "outputs": [],
   "source": [
    "x0 = patterns[5].copy()  # vector ±1\n",
    "s_final, sweeps, conv, cycle = Hopfield_train(x0, W_hopfield, mode=\"async\")"
   ]
  },
  {
   "cell_type": "code",
   "execution_count": null,
   "id": "b6b5e9d9",
   "metadata": {},
   "outputs": [],
   "source": [
    "H, W = 50, 50  \n",
    "x0_img = s_final.reshape(H, W)\n",
    "\n",
    "plt.figure(figsize=(8,4))\n",
    "\n",
    "plt.subplot(1,2,1)\n",
    "mostrar_patron(x0, (H, W), \"Patrón presentado\")\n",
    "\n",
    "plt.subplot(1,2,2)\n",
    "mostrar_patron(x0_img, (H, W), \"Patrón recuperado\")\n",
    "\n",
    "plt.show() "
   ]
  },
  {
   "cell_type": "markdown",
   "id": "2dcec0ed",
   "metadata": {},
   "source": [
    "# 2a"
   ]
  },
  {
   "cell_type": "code",
   "execution_count": null,
   "id": "94358f51",
   "metadata": {},
   "outputs": [],
   "source": [
    "import numpy as np\n",
    "import pandas as pd\n",
    "\n",
    "# uso la misma update_sync\n",
    "def update_sync(s, W):\n",
    "    s = s.reshape(-1).astype(np.int8)\n",
    "    h = W @ s\n",
    "    out = np.sign(h).astype(np.int8)\n",
    "    out[out == 0] = s[out == 0]\n",
    "    return out\n",
    "\n",
    "def hopfield82_weights(patterns: np.ndarray) -> np.ndarray:\n",
    "    X = patterns.astype(np.float32)\n",
    "    N = X.shape[1]\n",
    "    W = (X.T @ X) / float(N)\n",
    "    np.fill_diagonal(W, 0.0)\n",
    "    return W\n",
    "\n",
    "def perr_one_pass(W: np.ndarray, patterns: np.ndarray) -> float:\n",
    "    flips = 0\n",
    "    total = patterns.size\n",
    "    for x in patterns:\n",
    "        x1 = update_sync(x, W)      \n",
    "        flips += np.count_nonzero(x1 != x)\n",
    "    return flips / total\n",
    "\n",
    "def calcular_tabla_capacidad(p_errors, n=10, trials=100, seed=0):\n",
    "    \"\"\"\n",
    "    p_errors: lista de umbrales P_error\n",
    "    n       : lado de la imagen (N = n*n)\n",
    "    trials  : cantidad de corridas por umbral \n",
    "    \"\"\"\n",
    "    rng_master = np.random.default_rng(seed)\n",
    "    N = n * n\n",
    "    out_rows = []\n",
    "\n",
    "    for perr_target in p_errors:\n",
    "        Cs = []\n",
    "        for _ in range(trials):\n",
    "            rng = np.random.default_rng(rng_master.integers(0, 2**31-1))\n",
    "            patterns = []                     \n",
    "            E = 0.0\n",
    "            while E < perr_target:\n",
    "                x = rng.integers(0, 2, size=N, dtype=np.int8) * 2 - 1\n",
    "                patterns.append(x)\n",
    "\n",
    "                X = np.stack(patterns, axis=0)     \n",
    "                W = hopfield82_weights(X)\n",
    "                E = perr_one_pass(W, X)\n",
    "            C = (len(patterns) - 1) / N\n",
    "            Cs.append(C)\n",
    "\n",
    "        out_rows.append({\n",
    "            \"P_error\": perr_target,\n",
    "            \"P_max_N\": float(np.mean(Cs))\n",
    "        })\n",
    "\n",
    "    df = pd.DataFrame(out_rows).set_index(\"P_error\")\n",
    "    return df\n",
    "\n",
    "p_error = [0.001, 0.0036, 0.01, 0.05, 0.1]\n",
    "tabla = calcular_tabla_capacidad(p_error, n=10, trials=20, seed=42)  \n"
   ]
  },
  {
   "cell_type": "code",
   "execution_count": 8,
   "id": "77c67cb4",
   "metadata": {},
   "outputs": [
    {
     "data": {
      "text/html": [
       "<div>\n",
       "<style scoped>\n",
       "    .dataframe tbody tr th:only-of-type {\n",
       "        vertical-align: middle;\n",
       "    }\n",
       "\n",
       "    .dataframe tbody tr th {\n",
       "        vertical-align: top;\n",
       "    }\n",
       "\n",
       "    .dataframe thead th {\n",
       "        text-align: right;\n",
       "    }\n",
       "</style>\n",
       "<table border=\"1\" class=\"dataframe\">\n",
       "  <thead>\n",
       "    <tr style=\"text-align: right;\">\n",
       "      <th></th>\n",
       "      <th>P_error</th>\n",
       "      <th>P_max_N</th>\n",
       "    </tr>\n",
       "  </thead>\n",
       "  <tbody>\n",
       "    <tr>\n",
       "      <th>0</th>\n",
       "      <td>0.0010</td>\n",
       "      <td>0.1155</td>\n",
       "    </tr>\n",
       "    <tr>\n",
       "      <th>1</th>\n",
       "      <td>0.0036</td>\n",
       "      <td>0.1410</td>\n",
       "    </tr>\n",
       "    <tr>\n",
       "      <th>2</th>\n",
       "      <td>0.0100</td>\n",
       "      <td>0.1840</td>\n",
       "    </tr>\n",
       "    <tr>\n",
       "      <th>3</th>\n",
       "      <td>0.0500</td>\n",
       "      <td>0.3770</td>\n",
       "    </tr>\n",
       "    <tr>\n",
       "      <th>4</th>\n",
       "      <td>0.1000</td>\n",
       "      <td>0.6140</td>\n",
       "    </tr>\n",
       "  </tbody>\n",
       "</table>\n",
       "</div>"
      ],
      "text/plain": [
       "   P_error  P_max_N\n",
       "0   0.0010   0.1155\n",
       "1   0.0036   0.1410\n",
       "2   0.0100   0.1840\n",
       "3   0.0500   0.3770\n",
       "4   0.1000   0.6140"
      ]
     },
     "execution_count": 8,
     "metadata": {},
     "output_type": "execute_result"
    }
   ],
   "source": [
    "tabla.reset_index()"
   ]
  },
  {
   "cell_type": "markdown",
   "id": "d9c35da1",
   "metadata": {},
   "source": [
    "# 2b"
   ]
  },
  {
   "cell_type": "code",
   "execution_count": 9,
   "id": "44ce3628",
   "metadata": {},
   "outputs": [],
   "source": [
    "def generar_patrones_correlados(P, N, proba=0.1, rng=np.random.default_rng()):\n",
    "    \"\"\"\n",
    "    Genera P patrones de longitud N con correlación controlada.\n",
    "    proba: probabilidad de cambiar cada bit respecto al patrón base.\n",
    "    \"\"\"\n",
    "    base = rng.choice([-1, 1], size=N)   # patrón base aleatorio\n",
    "    patterns = [base]\n",
    "    for _ in range(P-1):\n",
    "        mask = rng.random(N) < proba\n",
    "        nuevo = base.copy()\n",
    "        nuevo[mask] *= -1\n",
    "        patterns.append(nuevo)\n",
    "    return np.array(patterns)\n"
   ]
  },
  {
   "cell_type": "code",
   "execution_count": 10,
   "id": "251525ef",
   "metadata": {},
   "outputs": [
    {
     "name": "stdout",
     "output_type": "stream",
     "text": [
      "(5, 100)\n",
      "[ 1 -1 -1  1 -1 -1 -1  1 -1 -1  1  1  1 -1 -1 -1 -1  1 -1  1 -1  1  1  1\n",
      " -1 -1  1 -1 -1 -1  1  1 -1  1  1  1 -1  1 -1 -1 -1 -1  1  1 -1  1  1 -1\n",
      " -1  1 -1 -1  1 -1 -1 -1 -1 -1 -1 -1  1 -1 -1  1  1 -1 -1  1 -1 -1  1  1\n",
      "  1 -1 -1 -1  1 -1  1  1 -1 -1  1 -1 -1 -1 -1 -1 -1  1  1  1  1 -1 -1  1\n",
      "  1 -1  1 -1]\n",
      "[ 1 -1 -1  1 -1 -1 -1  1 -1 -1  1  1  1  1  1 -1 -1 -1 -1  1 -1  1 -1  1\n",
      "  1 -1  1 -1 -1 -1  1  1 -1  1  1  1 -1  1 -1 -1 -1 -1  1  1 -1  1 -1 -1\n",
      " -1  1 -1 -1  1 -1 -1 -1 -1 -1 -1 -1  1 -1  1  1  1 -1 -1  1 -1 -1  1 -1\n",
      "  1 -1 -1 -1  1 -1  1  1 -1  1  1 -1 -1 -1 -1 -1 -1  1  1  1  1 -1 -1  1\n",
      "  1 -1  1 -1]\n"
     ]
    }
   ],
   "source": [
    "patterns = generar_patrones_correlados(P=5, N=100, proba=0.1)\n",
    "print(patterns.shape)   # (5, 100)\n",
    "print(patterns[0])      # patrón base\n",
    "print(patterns[1])      # un patrón derivado\n"
   ]
  },
  {
   "cell_type": "code",
   "execution_count": 11,
   "id": "609e7253",
   "metadata": {},
   "outputs": [
    {
     "data": {
      "image/png": "[encoded data removed]",
      "text/plain": [
       "<Figure size 1000x200 with 5 Axes>"
      ]
     },
     "metadata": {},
     "output_type": "display_data"
    }
   ],
   "source": [
    "import matplotlib.pyplot as plt\n",
    "\n",
    "patterns = generar_patrones_correlados(P=5, N=100, proba=0.1)\n",
    "\n",
    "fig, axes = plt.subplots(1, 5, figsize=(10, 2))\n",
    "for i, ax in enumerate(axes):\n",
    "    img = patterns[i].reshape(10, 10)\n",
    "    ax.imshow(img, cmap=\"gray\")\n",
    "    ax.axis(\"off\")\n",
    "    ax.set_title(f\"P{i}\")\n",
    "plt.show()\n"
   ]
  },
  {
   "cell_type": "code",
   "execution_count": 28,
   "id": "b7535563",
   "metadata": {},
   "outputs": [],
   "source": [
    "import numpy as np\n",
    "import pandas as pd\n",
    "\n",
    "\n",
    "probas = [0.0, 0.05, 0.1, 0.2, 0.5]\n",
    "N = 1000\n",
    "perr_target = 0.0036\n",
    "\n",
    "resultados = []\n",
    "for p in probas:\n",
    "    E = 0.0\n",
    "    P = 0\n",
    "    while E < perr_target and P < 100:\n",
    "        P += 1\n",
    "        patrones = generar_patrones_correlados(P, N, proba=p)\n",
    "        W = hopfield82_weights(patrones)\n",
    "        E = perr_one_pass(W, patrones)\n",
    "    C = (P-1)/N\n",
    "    resultados.append({\"proba\": p, \"C = p_max/N\": C})\n",
    "\n",
    "tabla = pd.DataFrame(resultados).set_index(\"proba\")"
   ]
  },
  {
   "cell_type": "code",
   "execution_count": 29,
   "id": "4177061e",
   "metadata": {},
   "outputs": [
    {
     "data": {
      "text/html": [
       "<div>\n",
       "<style scoped>\n",
       "    .dataframe tbody tr th:only-of-type {\n",
       "        vertical-align: middle;\n",
       "    }\n",
       "\n",
       "    .dataframe tbody tr th {\n",
       "        vertical-align: top;\n",
       "    }\n",
       "\n",
       "    .dataframe thead th {\n",
       "        text-align: right;\n",
       "    }\n",
       "</style>\n",
       "<table border=\"1\" class=\"dataframe\">\n",
       "  <thead>\n",
       "    <tr style=\"text-align: right;\">\n",
       "      <th></th>\n",
       "      <th>proba</th>\n",
       "      <th>C = p_max/N</th>\n",
       "    </tr>\n",
       "  </thead>\n",
       "  <tbody>\n",
       "    <tr>\n",
       "      <th>0</th>\n",
       "      <td>0.00</td>\n",
       "      <td>0.099</td>\n",
       "    </tr>\n",
       "    <tr>\n",
       "      <th>1</th>\n",
       "      <td>0.05</td>\n",
       "      <td>0.002</td>\n",
       "    </tr>\n",
       "    <tr>\n",
       "      <th>2</th>\n",
       "      <td>0.10</td>\n",
       "      <td>0.002</td>\n",
       "    </tr>\n",
       "    <tr>\n",
       "      <th>3</th>\n",
       "      <td>0.20</td>\n",
       "      <td>0.002</td>\n",
       "    </tr>\n",
       "    <tr>\n",
       "      <th>4</th>\n",
       "      <td>0.50</td>\n",
       "      <td>0.099</td>\n",
       "    </tr>\n",
       "  </tbody>\n",
       "</table>\n",
       "</div>"
      ],
      "text/plain": [
       "   proba  C = p_max/N\n",
       "0   0.00        0.099\n",
       "1   0.05        0.002\n",
       "2   0.10        0.002\n",
       "3   0.20        0.002\n",
       "4   0.50        0.099"
      ]
     },
     "execution_count": 29,
     "metadata": {},
     "output_type": "execute_result"
    }
   ],
   "source": [
    "tabla.reset_index()"
   ]
  },
  {
   "cell_type": "markdown",
   "id": "8c1c55c2",
   "metadata": {},
   "source": [
    "# Extra"
   ]
  },
  {
   "cell_type": "code",
   "execution_count": null,
   "id": "ac6eab83",
   "metadata": {},
   "outputs": [
    {
     "data": {
      "image/png": "[encoded data removed]",
      "text/plain": [
       "<Figure size 800x300 with 3 Axes>"
      ]
     },
     "metadata": {},
     "output_type": "display_data"
    }
   ],
   "source": [
    "import matplotlib.pyplot as plt\n",
    "\n",
    "\n",
    "n = 10       \n",
    "N = n * n\n",
    "P = 3        # cantidad de patrones\n",
    "rng = np.random.default_rng(1)\n",
    "porc_borrado = 0.7\n",
    "\n",
    "\n",
    "patterns = rng.choice([-1, 1], size=(P, N))\n",
    "\n",
    "\n",
    "W = hopfield82_weights(patterns)\n",
    "\n",
    "\n",
    "def eliminar_conexiones(W, porc_borrar, rng=np.random.default_rng()):\n",
    "    Wc = W.copy()\n",
    "    mask = rng.random(W.shape) < porc_borrar\n",
    "    Wc[mask] = 0.0\n",
    "    return Wc\n",
    "\n",
    "W_corrupto = eliminar_conexiones(W, porc_borrar=porc_borrado)\n",
    "\n",
    "x0 = patterns[0]\n",
    "\n",
    "rec_intacto = update_sync(x0, W)\n",
    "rec_corrupto = update_sync(x0, W_corrupto)\n",
    "\n",
    "def mostrar(ax, vec, n, titulo):\n",
    "    img = vec.reshape(n, n)\n",
    "    ax.imshow(img, cmap=\"gray\")\n",
    "    ax.axis(\"off\")\n",
    "    ax.set_title(titulo)\n",
    "\n",
    "fig, axes = plt.subplots(1, 3, figsize=(8, 3))\n",
    "mostrar(axes[0], x0, n, \"Original\")\n",
    "mostrar(axes[1], rec_intacto, n, \"Recuperado intacto\")\n",
    "mostrar(axes[2], rec_corrupto, n, f\"Recuperado con {porc_borrado} borrado\")\n",
    "plt.show()\n"
   ]
  },
  {
   "cell_type": "code",
   "execution_count": null,
   "id": "b8bdf408",
   "metadata": {},
   "outputs": [
    {
     "name": "stdout",
     "output_type": "stream",
     "text": [
      "borrado=0.00 -> P_error=0.0008\n",
      "borrado=0.30 -> P_error=0.0017\n",
      "borrado=0.50 -> P_error=0.0158\n",
      "borrado=0.70 -> P_error=0.0367\n",
      "borrado=0.85 -> P_error=0.1183\n",
      "borrado=0.95 -> P_error=0.2067\n"
     ]
    }
   ],
   "source": [
    "fracs = [0.0, 0.3, 0.5, 0.7, 0.85, 0.95]\n",
    "n = 10\n",
    "N = n*n\n",
    "P = 12  # numero de patrones distintos que se almacenan en la red\n",
    "rng = np.random.default_rng(0)\n",
    "\n",
    "\n",
    "patterns = rng.choice([-1, 1], size=(P, N))\n",
    "W = hopfield82_weights(patterns)\n",
    "\n",
    "def eliminar_conexiones(W, frac, rng=np.random.default_rng()):\n",
    "    Wc = W.copy()\n",
    "    mask = rng.random(W.shape) < frac\n",
    "    Wc[mask] = 0.0\n",
    "    return Wc\n",
    "\n",
    "for f in fracs:\n",
    "    Wc = eliminar_conexiones(W, f, rng)\n",
    "    E = perr_one_pass(Wc, patterns)\n",
    "    print(f\"borrado={f:.2f} -> P_error={E:.4f}\")"
   ]
  },
  {
   "cell_type": "code",
   "execution_count": 38,
   "id": "6767f2fe",
   "metadata": {},
   "outputs": [
    {
     "data": {
      "image/png": "[encoded data removed]",
      "text/plain": [
       "<Figure size 640x480 with 1 Axes>"
      ]
     },
     "metadata": {},
     "output_type": "display_data"
    }
   ],
   "source": [
    "import matplotlib.pyplot as plt\n",
    "\n",
    "fracs = [0.0, 0.3, 0.5, 0.7, 0.85, 0.95]\n",
    "errors = []\n",
    "\n",
    "for f in fracs:\n",
    "    Wc = eliminar_conexiones(W, f, rng)\n",
    "    E = perr_one_pass(Wc, patterns)\n",
    "    errors.append(E)\n",
    "\n",
    "plt.plot([f*100 for f in fracs], errors, marker=\"o\")\n",
    "plt.xlabel(\"% de conexiones borradas\")\n",
    "plt.ylabel(\"P_error\")\n",
    "plt.title(f\"Error vs. conexiones borradas (P={P}, N={N})\")\n",
    "plt.grid(True)\n",
    "plt.show()\n"
   ]
  },
  {
   "cell_type": "code",
   "execution_count": null,
   "id": "54dda69d",
   "metadata": {},
   "outputs": [
    {
     "data": {
      "image/png": "[encoded data removed]",
      "text/plain": [
       "<Figure size 640x480 with 1 Axes>"
      ]
     },
     "metadata": {},
     "output_type": "display_data"
    }
   ],
   "source": [
    "import matplotlib.pyplot as plt\n",
    "\n",
    "fracs = [0.0, 0.3, 0.5, 0.7, 0.9]\n",
    "N = 100\n",
    "perr_target = 0.0036\n",
    "rng = np.random.default_rng(0)\n",
    "\n",
    "def capacidad_con_borrado(N, frac, perr_target, rng):\n",
    "    E = 0.0\n",
    "    P = 0\n",
    "    while E < perr_target and P < 80: \n",
    "        P += 1\n",
    "        patterns = rng.choice([-1, 1], size=(P, N))\n",
    "        W = hopfield82_weights(patterns)\n",
    "        mask = rng.random(W.shape) < frac\n",
    "        W[mask] = 0.0\n",
    "        E = perr_one_pass(W, patterns)\n",
    "    return (P-1)/N\n",
    "\n",
    "capacidades = []\n",
    "for f in fracs:\n",
    "    C = capacidad_con_borrado(N, f, perr_target, rng)\n",
    "    capacidades.append(C)\n",
    "\n",
    "plt.plot([f*100 for f in fracs], capacidades, marker=\"o\")\n",
    "plt.xlabel(\"% de conexiones borradas\")\n",
    "plt.ylabel(\"Capacidad\")\n",
    "plt.title(\"Capacidad vs. % de sinapsis eliminadas\")\n",
    "plt.grid(True)\n",
    "plt.show()\n"
   ]
  },
  {
   "cell_type": "code",
   "execution_count": null,
   "id": "7801391c",
   "metadata": {},
   "outputs": [],
   "source": []
  }
 ],
 "metadata": {
  "kernelspec": {
   "display_name": "redes-neuronales",
   "language": "python",
   "name": "python3"
  },
  "language_info": {
   "codemirror_mode": {
    "name": "ipython",
    "version": 3
   },
   "file_extension": ".py",
   "mimetype": "text/x-python",
   "name": "python",
   "nbconvert_exporter": "python",
   "pygments_lexer": "ipython3",
   "version": "3.12.3"
  }
 },
 "nbformat": 4,
 "nbformat_minor": 5
}
