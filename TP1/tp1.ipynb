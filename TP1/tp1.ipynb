{
 "cells": [
  {
   "cell_type": "code",
   "execution_count": 1,
   "id": "e811dfdd",
   "metadata": {},
   "outputs": [],
   "source": [
    "import pandas as pd\n",
    "import numpy as np\n",
    "import matplotlib.pyplot as plt\n",
    "from skimage import io, util, transform\n",
    "from PIL import Image"
   ]
  },
  {
   "cell_type": "markdown",
   "id": "cfda3597",
   "metadata": {},
   "source": [
    "# 1. Entrene una red de Hopfield ‘82 con un conjunto de imágenes binarias."
   ]
  },
  {
   "cell_type": "markdown",
   "id": "f42f59d4",
   "metadata": {},
   "source": [
    "Recordatorios de tamaños\n",
    "\n",
    "El vector de la imagen original aplanada → (N,).\n",
    "\n",
    "El vector de la imagen con ruido (x0) → (N,).\n",
    "\n",
    "La matriz de pesos W → (N, N).\n",
    "\n",
    "Todas las imagenes tienen que tener el mismo tamaño"
   ]
  },
  {
   "cell_type": "markdown",
   "id": "f0303ef7",
   "metadata": {},
   "source": [
    "### Pasos"
   ]
  },
  {
   "cell_type": "markdown",
   "id": "f54b9bd4",
   "metadata": {},
   "source": [
    "1. Preprocesar los patrones. Las imagenes son binarias, están en 0 (negro) y 1/255 (blanco).\n",
    "\n",
    "    Las redes de Holpfield trabajan con +1/-1\n",
    "\n",
    "    Tengo que aplicar una función signo que se aplique a cada imagen. \n",
    "\n",
    "2. Aplanar los patrones\n",
    "    La red Hopfield funciona con vectores de tamaño N (uno por neurona).\n",
    "\n",
    "    Si la imagen es de 28x28, el vector tendrá 784 entradas.\n",
    "    Convierto una matriz de 3D o 2D a un vector de 1D"
   ]
  },
  {
   "cell_type": "markdown",
   "id": "477e8042",
   "metadata": {},
   "source": [
    "### Definición de funciones a usar"
   ]
  },
  {
   "cell_type": "code",
   "execution_count": null,
   "id": "c6a40424",
   "metadata": {},
   "outputs": [],
   "source": [
    "# Todas las imagenes tienen que tener el mismo tamaño\n",
    "def preparar_patterns(img_paths: list, size=(45,60)) -> np.ndarray:\n",
    "    img_aplanadas_vec = []\n",
    "    for path in img_paths:\n",
    "        img = Image.open(path).convert(\"1\").resize(size)\n",
    "        arr01 = np.array(img, dtype=np.uint8)\n",
    "        signo = np.where(arr01 > 0, 1, -1).astype(np.int8)\n",
    "        vec = signo.reshape(-1)\n",
    "        img_aplanadas_vec.append(vec)\n",
    "    patterns = np.stack(img_aplanadas_vec)\n",
    "    return patterns"
   ]
  },
  {
   "cell_type": "code",
   "execution_count": 3,
   "id": "7bddb79e",
   "metadata": {},
   "outputs": [],
   "source": [
    "def calcular_matriz_conn(patterns):\n",
    "    # La matriz se fuerza a ceros en la diagonal.\n",
    "    P, N = patterns.shape # P es la cantidad de imagenes con la que quiero entrenar la red\n",
    "    W = np.zeros((N, N), dtype=np.float32)\n",
    "    for p in patterns:\n",
    "        W += np.outer(p, p)\n",
    "    W /= P\n",
    "    np.fill_diagonal(W, 0)\n",
    "    return W"
   ]
  },
  {
   "cell_type": "code",
   "execution_count": 4,
   "id": "e7c054d6",
   "metadata": {},
   "outputs": [],
   "source": [
    "def agg_ruido_img(img_1d: np.ndarray, frac: float, rng=None) -> np.ndarray:\n",
    "    \"\"\"Dado los patrones le agrego ruido dependiendo el porcentaje que se desee\n",
    "    Parametros:\n",
    "    img_1d: es el array de[1,-1] de 1D. Antes de convertirlo en un patrón para construir W.\n",
    "    \"\"\"\n",
    "    rng = rng or np.random.default_rng()\n",
    "    y = img_1d.copy()\n",
    "    k = int(round(frac * img_1d.size))\n",
    "    idx = rng.choice(img_1d.size, k, replace=False)\n",
    "    y[idx] *= -1\n",
    "    return y"
   ]
  },
  {
   "cell_type": "code",
   "execution_count": 5,
   "id": "edb2c8c0",
   "metadata": {},
   "outputs": [],
   "source": [
    "def update_sync(s, W):\n",
    "    h = W @ s\n",
    "    out = np.sign(h).astype(np.int8)\n",
    "    out[out == 0] = s[out == 0]\n",
    "    return out\n",
    "\n",
    "def update_async(s, W):\n",
    "    y = s.copy()\n",
    "    for i in np.random.permutation(y.size):\n",
    "        h_i = W[i] @ y\n",
    "        if   h_i > 0: y[i] =  1\n",
    "        elif h_i < 0: y[i] = -1\n",
    "    return y\n",
    "\n",
    "def Hopfield_train(\n",
    "    x0: np.ndarray,\n",
    "    W: np.ndarray,\n",
    "    mode: str = \"async\"\n",
    "):\n",
    "    \"\"\"\n",
    "    Parametros:\n",
    "    x0: Estado inicial. Normalmente es la imagen con ruido.\n",
    "    W: Matriz de pesos entrenada con los patrones\n",
    "    \"\"\"\n",
    "    s = x0.copy()\n",
    "    sweeps = 0 \n",
    "    if mode == \"async\":\n",
    "        while True:\n",
    "            sweeps += 1\n",
    "            s_new = update_async(s, W)\n",
    "            if np.array_equal(s_new, s):\n",
    "                return s_new, sweeps, True, False\n",
    "            s = s_new\n",
    "    elif mode == \"sync\":\n",
    "        s_prev = None\n",
    "        while True:\n",
    "            sweeps += 1\n",
    "            s_new = update_sync(s, W)\n",
    "            if np.array_equal(s_new, s):           # punto fijo\n",
    "                return s_new, sweeps, True, False\n",
    "            if s_prev is not None and np.array_equal(s_new, s_prev):  # 2-ciclo\n",
    "                return s_new, sweeps, True, True\n",
    "            s_prev, s = s, s_new\n",
    "    else:\n",
    "        raise ValueError(\"mode debe ser 'async' o 'sync'\")"
   ]
  },
  {
   "cell_type": "code",
   "execution_count": 6,
   "id": "d90db63f",
   "metadata": {},
   "outputs": [],
   "source": [
    "#img_path = ['dataset/paloma.bmp', 'dataset/panda.bmp', 'dataset/perro.bmp', 'dataset/quijote.bmp', 'dataset/torero.bmp', 'dataset/v.bmp']\n",
    "img_path = ['dataset/paloma.bmp']\n"
   ]
  },
  {
   "cell_type": "code",
   "execution_count": 7,
   "id": "e9ce69df",
   "metadata": {},
   "outputs": [
    {
     "name": "stdout",
     "output_type": "stream",
     "text": [
      "(1, 2700)\n",
      "[-1  1]\n"
     ]
    }
   ],
   "source": [
    "patterns = preparar_patterns(img_path)\n",
    "print(patterns.shape)   # (6, N)\n",
    "print(np.unique(patterns))  # [-1  1]"
   ]
  },
  {
   "cell_type": "code",
   "execution_count": 8,
   "id": "b79f7833",
   "metadata": {},
   "outputs": [],
   "source": [
    "matriz_w = calcular_matriz_conn(patterns)"
   ]
  },
  {
   "cell_type": "code",
   "execution_count": 9,
   "id": "7202b25e",
   "metadata": {},
   "outputs": [
    {
     "data": {
      "text/plain": [
       "array([[0., 1., 1., ..., 1., 1., 1.],\n",
       "       [1., 0., 1., ..., 1., 1., 1.],\n",
       "       [1., 1., 0., ..., 1., 1., 1.],\n",
       "       ...,\n",
       "       [1., 1., 1., ..., 0., 1., 1.],\n",
       "       [1., 1., 1., ..., 1., 0., 1.],\n",
       "       [1., 1., 1., ..., 1., 1., 0.]], shape=(2700, 2700), dtype=float32)"
      ]
     },
     "execution_count": 9,
     "metadata": {},
     "output_type": "execute_result"
    }
   ],
   "source": [
    "matriz_w"
   ]
  },
  {
   "cell_type": "code",
   "execution_count": null,
   "id": "400eeb52",
   "metadata": {},
   "outputs": [
    {
     "data": {
      "image/png": "[encoded data removed]",
      "text/plain": [
       "<Figure size 640x480 with 1 Axes>"
      ]
     },
     "metadata": {},
     "output_type": "display_data"
    },
    {
     "name": "stdout",
     "output_type": "stream",
     "text": [
      "Patrón 0: convergió=True, sweeps=2\n"
     ]
    }
   ],
   "source": [
    "def agg_ruido_img(img_1d: np.ndarray, frac: float, rng=None) -> np.ndarray:\n",
    "    \"\"\"Dado los patrones le agrego ruido dependiendo el porcentaje que se desee\n",
    "    Parametros:\n",
    "    img_1d: es el array de[1,-1] de 1D. Antes de convertirlo en un patrón para construir W.\n",
    "    \"\"\"\n",
    "    rng = rng or np.random.default_rng()\n",
    "    y = img_1d.copy()\n",
    "    k = int(round(frac * img_1d.size))\n",
    "    idx = rng.choice(img_1d.size, k, replace=False)\n",
    "    y[idx] *= -1\n",
    "    return y"
   ]
  },
  {
   "cell_type": "code",
   "execution_count": 19,
   "id": "99475a6a",
   "metadata": {},
   "outputs": [],
   "source": [
    "path = 'dataset/paloma.bmp'\n",
    "img = Image.open(path)\n",
    "arr01 = np.array(img, dtype=np.uint8)"
   ]
  },
  {
   "cell_type": "code",
   "execution_count": 20,
   "id": "505e39e3",
   "metadata": {},
   "outputs": [
    {
     "data": {
      "text/plain": [
       "(45, 60)"
      ]
     },
     "execution_count": 20,
     "metadata": {},
     "output_type": "execute_result"
    }
   ],
   "source": [
    "arr01.shape"
   ]
  },
  {
   "cell_type": "code",
   "execution_count": 21,
   "id": "7b4f051c",
   "metadata": {},
   "outputs": [],
   "source": [
    "signo = np.where(arr01 > 0, 1, -1).astype(np.int8)\n",
    "vec = signo.reshape(-1)\n",
    "patterns = np.stack(vec)"
   ]
  },
  {
   "cell_type": "code",
   "execution_count": 22,
   "id": "2ba1a40e",
   "metadata": {},
   "outputs": [
    {
     "data": {
      "text/plain": [
       "(2700,)"
      ]
     },
     "execution_count": 22,
     "metadata": {},
     "output_type": "execute_result"
    }
   ],
   "source": [
    "patterns.shape"
   ]
  },
  {
   "cell_type": "code",
   "execution_count": 16,
   "id": "5b39c870",
   "metadata": {},
   "outputs": [
    {
     "ename": "ValueError",
     "evalue": "not enough values to unpack (expected 2, got 1)",
     "output_type": "error",
     "traceback": [
      "\u001b[31m---------------------------------------------------------------------------\u001b[39m",
      "\u001b[31mValueError\u001b[39m                                Traceback (most recent call last)",
      "\u001b[36mCell\u001b[39m\u001b[36m \u001b[39m\u001b[32mIn[16]\u001b[39m\u001b[32m, line 1\u001b[39m\n\u001b[32m----> \u001b[39m\u001b[32m1\u001b[39m w = \u001b[43mcalcular_matriz_conn\u001b[49m\u001b[43m(\u001b[49m\u001b[43mpatterns\u001b[49m\u001b[43m)\u001b[49m\n",
      "\u001b[36mCell\u001b[39m\u001b[36m \u001b[39m\u001b[32mIn[3]\u001b[39m\u001b[32m, line 3\u001b[39m, in \u001b[36mcalcular_matriz_conn\u001b[39m\u001b[34m(patterns)\u001b[39m\n\u001b[32m      1\u001b[39m \u001b[38;5;28;01mdef\u001b[39;00m\u001b[38;5;250m \u001b[39m\u001b[34mcalcular_matriz_conn\u001b[39m(patterns):\n\u001b[32m      2\u001b[39m     \u001b[38;5;66;03m# La matriz se fuerza a ceros en la diagonal.\u001b[39;00m\n\u001b[32m----> \u001b[39m\u001b[32m3\u001b[39m     P, N = patterns.shape \u001b[38;5;66;03m# P es la cantidad de imagenes con la que quiero entrenar la red\u001b[39;00m\n\u001b[32m      4\u001b[39m     W = np.zeros((N, N), dtype=np.float32)\n\u001b[32m      5\u001b[39m     \u001b[38;5;28;01mfor\u001b[39;00m p \u001b[38;5;129;01min\u001b[39;00m patterns:\n",
      "\u001b[31mValueError\u001b[39m: not enough values to unpack (expected 2, got 1)"
     ]
    }
   ],
   "source": [
    "w = calcular_matriz_conn(patterns)"
   ]
  },
  {
   "cell_type": "code",
   "execution_count": null,
   "id": "20d65c64",
   "metadata": {},
   "outputs": [],
   "source": []
  }
 ],
 "metadata": {
  "kernelspec": {
   "display_name": "redes-neuronales",
   "language": "python",
   "name": "python3"
  },
  "language_info": {
   "codemirror_mode": {
    "name": "ipython",
    "version": 3
   },
   "file_extension": ".py",
   "mimetype": "text/x-python",
   "name": "python",
   "nbconvert_exporter": "python",
   "pygments_lexer": "ipython3",
   "version": "3.12.3"
  }
 },
 "nbformat": 4,
 "nbformat_minor": 5
}
