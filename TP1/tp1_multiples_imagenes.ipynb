{
 "cells": [
  {
   "cell_type": "code",
   "execution_count": 1,
   "id": "a78a560b",
   "metadata": {},
   "outputs": [],
   "source": [
    "import pandas as pd\n",
    "import numpy as np\n",
    "import matplotlib.pyplot as plt\n",
    "from skimage import io, util, transform\n",
    "from PIL import Image"
   ]
  },
  {
   "cell_type": "markdown",
   "id": "8d331d26",
   "metadata": {},
   "source": [
    "# 1. Entrene una red de Hopfield ‘82 con un conjunto de imágenes binarias."
   ]
  },
  {
   "cell_type": "markdown",
   "id": "55de0b6c",
   "metadata": {},
   "source": [
    "Recordatorios de tamaños\n",
    "\n",
    "El vector de la imagen original aplanada → (N,).\n",
    "\n",
    "El vector de la imagen con ruido (x0) → (N,).\n",
    "\n",
    "La matriz de pesos W → (N, N).\n",
    "\n",
    "Todas las imagenes tienen que tener el mismo tamaño"
   ]
  },
  {
   "cell_type": "markdown",
   "id": "301088ed",
   "metadata": {},
   "source": [
    "1. Preprocesar los patrones. Las imagenes son binarias, están en 0 (negro) y 1/255 (blanco).\n",
    "\n",
    "    Las redes de Holpfield trabajan con +1/-1\n",
    "\n",
    "    Tengo que aplicar una función signo que se aplique a cada imagen. \n",
    "\n",
    "2. Aplanar los patrones\n",
    "    La red Hopfield funciona con vectores de tamaño N (uno por neurona).\n",
    "\n",
    "    Si la imagen es de 28x28, el vector tendrá 784 entradas.\n",
    "    Convierto una matriz de 3D o 2D a un vector de 1D"
   ]
  },
  {
   "cell_type": "markdown",
   "id": "aa81efc0",
   "metadata": {},
   "source": []
  },
  {
   "cell_type": "code",
   "execution_count": 2,
   "id": "974e39de",
   "metadata": {},
   "outputs": [],
   "source": [
    "import numpy as np\n",
    "from PIL import Image\n",
    "\n",
    "def preparar_patterns(img_list: list, size=(45,60)) -> np.ndarray:\n",
    "    img_aplanadas_vec = []\n",
    "    for arr in img_list:\n",
    "        # 1) gris (0..255)\n",
    "        img = Image.fromarray(arr).convert(\"L\")\n",
    "        # 2) resize sin suavizado\n",
    "        img = img.resize(size, resample=Image.NEAREST)\n",
    "        arr = np.array(img, dtype=np.uint8)          # (H,W), 0..255\n",
    "\n",
    "        # 3) UMBRAL MANUAL (ajustable). Negros→1, fondo→0\n",
    "        threshold = 200\n",
    "        bin01 = (arr < threshold).astype(np.uint8)\n",
    "\n",
    "        # 4) 0/1 -> ±1 y aplanar\n",
    "        signo = (bin01 * 2 - 1).astype(np.int8)\n",
    "        vec = signo.reshape(-1)\n",
    "        img_aplanadas_vec.append(vec)\n",
    "\n",
    "    patterns = np.stack(img_aplanadas_vec)\n",
    "    return patterns"
   ]
  },
  {
   "cell_type": "code",
   "execution_count": 3,
   "id": "669534a8",
   "metadata": {},
   "outputs": [],
   "source": [
    "def calcular_matriz_conn(patterns):\n",
    "    P, N = patterns.shape\n",
    "    W = np.zeros((N, N), dtype=np.float32)\n",
    "    for p in patterns:\n",
    "        W += np.outer(p, p)\n",
    "    W /= P\n",
    "    np.fill_diagonal(W, 0.0)\n",
    "    return 0.5 * (W + W.T)"
   ]
  },
  {
   "cell_type": "code",
   "execution_count": 4,
   "id": "f7980ba4",
   "metadata": {},
   "outputs": [],
   "source": [
    "def agg_ruido_img(img_1d: np.ndarray, frac: float, rng=None) -> np.ndarray:\n",
    "    rng = rng or np.random.default_rng()\n",
    "    x = img_1d.reshape(-1)   # <- importante\n",
    "    y = x.copy()\n",
    "    k = int(round(frac * x.size))\n",
    "    if k > 0:\n",
    "        idx = rng.choice(x.size, k, replace=False)\n",
    "        y[idx] *= -1\n",
    "    return y\n",
    "\n",
    "\n",
    "import numpy as np\n",
    "\n",
    "def borrar_img(vec: np.ndarray, frac: float, shape: tuple, axis: str = \"cols\") -> np.ndarray:\n",
    "    \"\"\"\n",
    "    Borra un porcentaje de la imagen (pone -1 en esa región).\n",
    "    \n",
    "    vec   : patrón 1D en {-1,+1}\n",
    "    frac  : fracción a borrar (0..1)\n",
    "    shape : (alto, ancho) de la imagen\n",
    "    axis  : \"cols\" para columnas, \"rows\" para filas\n",
    "    \n",
    "    Devuelve: nuevo vector 1D con parte borrada\n",
    "    \"\"\"\n",
    "    img = vec.reshape(shape).copy()\n",
    "\n",
    "    H, W = shape\n",
    "    if axis == \"cols\":\n",
    "        n_cols = int(W * frac)\n",
    "        img[:, -n_cols:] = -1\n",
    "    elif axis == \"rows\":\n",
    "        n_rows = int(H * frac)\n",
    "        img[-n_rows:, :] = -1\n",
    "    else:\n",
    "        raise ValueError(\"axis debe ser 'cols' o 'rows'\")\n",
    "\n",
    "    return img.reshape(-1)\n"
   ]
  },
  {
   "cell_type": "code",
   "execution_count": 5,
   "id": "bf8fd83f",
   "metadata": {},
   "outputs": [],
   "source": [
    "def mostrar_patron(vec, shape, titulo=\"\"):\n",
    "    \"\"\"\n",
    "    vec   : patrón 1D en {-1,+1}\n",
    "    shape : (alto, ancho) de la imagen\n",
    "    \"\"\"\n",
    "    img = vec.reshape(shape)\n",
    "    # mapear {-1,1} a {255,0} → blanco/negro\n",
    "    img = ((-img + 1) * 127.5).astype(np.uint8)\n",
    "\n",
    "    plt.imshow(img, cmap=\"gray\")\n",
    "    plt.title(titulo)\n",
    "    plt.axis(\"off\")"
   ]
  },
  {
   "cell_type": "code",
   "execution_count": 6,
   "id": "df0d47b5",
   "metadata": {},
   "outputs": [],
   "source": [
    "def update_sync(s, W):\n",
    "    s = s.reshape(-1).astype(np.int8)\n",
    "    h = W @ s\n",
    "    out = np.sign(h).astype(np.int8)\n",
    "    out[out == 0] = s[out == 0]\n",
    "    return out\n",
    "\n",
    "def update_async(s, W):\n",
    "    y = s.reshape(-1).copy().astype(np.int8)\n",
    "    N = y.size\n",
    "    for i in np.random.permutation(N):\n",
    "        h_i = np.dot(W[i, :], y)\n",
    "        if   h_i > 0: y[i] =  1\n",
    "        elif h_i < 0: y[i] = -1\n",
    "    return y\n",
    "\n",
    "\n",
    "def Hopfield_train(x0: np.ndarray, W: np.ndarray, mode: str = \"async\"):\n",
    "    s = x0.copy()\n",
    "    sweeps = 0\n",
    "    if mode == \"async\":\n",
    "        while True:\n",
    "            sweeps += 1\n",
    "            s_new = update_async(s, W)\n",
    "            if np.array_equal(s_new, s):\n",
    "                return s_new, sweeps, True, False\n",
    "            s = s_new\n",
    "    elif mode == \"sync\":\n",
    "        s_prev = None\n",
    "        while True:\n",
    "            sweeps += 1\n",
    "            s_new = update_sync(s, W)\n",
    "            if np.array_equal(s_new, s):\n",
    "                return s_new, sweeps, True, False\n",
    "            if s_prev is not None and np.array_equal(s_new, s_prev):\n",
    "                return s_new, sweeps, True, True\n",
    "            s_prev, s = s, s_new\n",
    "    else:\n",
    "        raise ValueError(\"mode debe ser 'async' o 'sync'\")\n"
   ]
  },
  {
   "cell_type": "markdown",
   "id": "98d379e6",
   "metadata": {},
   "source": [
    "#### Selecciono a las imagenes con el tamaño de (45, 60) y hago el primer entrenamiento de la red"
   ]
  },
  {
   "cell_type": "markdown",
   "id": "d510cb71",
   "metadata": {},
   "source": [
    "# Punto a"
   ]
  },
  {
   "cell_type": "code",
   "execution_count": null,
   "id": "2e7571b4",
   "metadata": {},
   "outputs": [],
   "source": [
    "import os\n",
    "images = []\n",
    "images_shape = []\n",
    "#files = ['dataset/paloma.bmp', 'dataset/panda.bmp', 'dataset/perro.bmp',\n",
    "#         'dataset/quijote.bmp', 'dataset/torero.bmp', 'dataset/v.bmp']\n",
    "files = ['dataset/paloma.bmp','dataset/quijote.bmp', 'dataset/torero.bmp']\n",
    "\n",
    "for data in files:\n",
    "    if '.bmp' in data:\n",
    "        image = io.imread(data)\n",
    "        images.append(image)\n",
    "        images_shape.append(image.shape)\n",
    "images_shape = list(set(images_shape))\n",
    "print(images_shape)"
   ]
  },
  {
   "cell_type": "code",
   "execution_count": null,
   "id": "6dce2e04",
   "metadata": {},
   "outputs": [],
   "source": [
    "images_train = [] \n",
    "for image in images:\n",
    "    if image.shape == images_shape[0]:\n",
    "        images_train.append(image)"
   ]
  },
  {
   "cell_type": "code",
   "execution_count": null,
   "id": "422bfd44",
   "metadata": {},
   "outputs": [],
   "source": [
    "images_train"
   ]
  },
  {
   "cell_type": "code",
   "execution_count": null,
   "id": "144b2b93",
   "metadata": {},
   "outputs": [],
   "source": [
    "H, W = images_shape[0]\n",
    "patterns = preparar_patterns(images_train, size=(W, H))  # PIL usa (W,H)\n",
    "\n",
    "W_hopfield = calcular_matriz_conn(patterns)\n"
   ]
  },
  {
   "cell_type": "code",
   "execution_count": null,
   "id": "2eaaea4f",
   "metadata": {},
   "outputs": [],
   "source": [
    "patterns"
   ]
  },
  {
   "cell_type": "code",
   "execution_count": null,
   "id": "093a52a6",
   "metadata": {},
   "outputs": [],
   "source": [
    "x0 = patterns[0].copy()  # vector ±1\n",
    "# correr Hopfield\n",
    "s_final, sweeps, converged, two_cycle = Hopfield_train(x0, W_hopfield, mode=\"async\")"
   ]
  },
  {
   "cell_type": "code",
   "execution_count": null,
   "id": "ec00aca4",
   "metadata": {},
   "outputs": [],
   "source": [
    "H, W = images_shape[0]   \n",
    "x0_img = x0.reshape(H, W)\n",
    "\n",
    "plt.figure(figsize=(8,4))\n",
    "\n",
    "plt.subplot(1,2,1)\n",
    "mostrar_patron(x0_img, (H, W), \"Patrón inicial\")\n",
    "\n",
    "plt.subplot(1,2,2)\n",
    "mostrar_patron(s_final, (H, W), \"Imagen recuperada\")\n",
    "\n",
    "plt.show()"
   ]
  },
  {
   "cell_type": "markdown",
   "id": "1ebf34cf",
   "metadata": {},
   "source": [
    "# Punto b (Le agrego ruido a las imagenes)"
   ]
  },
  {
   "cell_type": "code",
   "execution_count": 8,
   "id": "9818dce5",
   "metadata": {},
   "outputs": [
    {
     "name": "stdout",
     "output_type": "stream",
     "text": [
      "[(50, 50)]\n"
     ]
    }
   ],
   "source": [
    "import os\n",
    "images = []\n",
    "images_shape = []\n",
    "files = ['dataset/panda.bmp', 'dataset/perro.bmp', 'dataset/v.bmp']\n",
    "\n",
    "for data in files:\n",
    "    if '.bmp' in data:\n",
    "        image = io.imread(data)\n",
    "        images.append(image)\n",
    "        images_shape.append(image.shape)\n",
    "images_shape = list(set(images_shape))\n",
    "print(images_shape)"
   ]
  },
  {
   "cell_type": "code",
   "execution_count": 9,
   "id": "22eaf379",
   "metadata": {},
   "outputs": [],
   "source": [
    "images_train = [] \n",
    "for image in images:\n",
    "    if image.shape == images_shape[0]:\n",
    "        images_train.append(image)"
   ]
  },
  {
   "cell_type": "code",
   "execution_count": null,
   "id": "3d15d2d2",
   "metadata": {},
   "outputs": [],
   "source": [
    "images_train"
   ]
  },
  {
   "cell_type": "code",
   "execution_count": null,
   "id": "cd490102",
   "metadata": {},
   "outputs": [],
   "source": [
    "H, W = images_shape[0]\n",
    "patterns = preparar_patterns(images_train, size=(W, H))  # PIL usa (W,H)\n",
    "W_hopfield = calcular_matriz_conn(patterns)\n",
    "x0 = patterns[2].copy()  # vector ±1\n",
    "x0_ruido = agg_ruido_img(x0, 0.2)\n",
    "# correr Hopfield\n",
    "s_final, sweeps, converged, two_cycle = Hopfield_train(x0_ruido, W_hopfield, mode=\"async\")\n"
   ]
  },
  {
   "cell_type": "code",
   "execution_count": null,
   "id": "ea4fe7de",
   "metadata": {},
   "outputs": [],
   "source": [
    "H, W = images_shape[0]   \n",
    "x0_img = s_final.reshape(H, W)\n",
    "\n",
    "plt.figure(figsize=(8,4))\n",
    "\n",
    "plt.subplot(1,2,2)\n",
    "mostrar_patron(x0_img, (H, W), \"Patrón recuperado\")\n",
    "\n",
    "plt.subplot(1,2,1)\n",
    "mostrar_patron(x0_ruido, (H, W), \"Patrón con ruido\")\n",
    "\n",
    "plt.show() "
   ]
  },
  {
   "cell_type": "code",
   "execution_count": 46,
   "id": "992cfdd4",
   "metadata": {},
   "outputs": [],
   "source": [
    "H, W = images_shape[0]\n",
    "patterns = preparar_patterns(images_train, size=(W, H))  # PIL usa (W,H)\n",
    "W_hopfield = calcular_matriz_conn(patterns)\n",
    "x0 = patterns[0].copy()  # vector ±1\n",
    "x0_borrado = borrar_img(x0, 0.9, (H, W), axis=\"cols\")\n",
    "# correr Hopfield\n",
    "s_final, sweeps, converged, two_cycle = Hopfield_train(x0_borrado, W_hopfield, mode=\"async\")"
   ]
  },
  {
   "cell_type": "code",
   "execution_count": 47,
   "id": "88c1d661",
   "metadata": {},
   "outputs": [
    {
     "data": {
      "image/png": "[encoded data removed]",
      "text/plain": [
       "<Figure size 800x400 with 2 Axes>"
      ]
     },
     "metadata": {},
     "output_type": "display_data"
    }
   ],
   "source": [
    "H, W = images_shape[0]   \n",
    "x0_img = s_final.reshape(H, W)\n",
    "\n",
    "plt.figure(figsize=(8,4))\n",
    "\n",
    "plt.subplot(1,2,1)\n",
    "mostrar_patron(x0_borrado, (H, W), \"Patrón Borrado\")\n",
    "\n",
    "plt.subplot(1,2,2)\n",
    "mostrar_patron(x0_img, (H, W), \"Patrón recuperado\")\n",
    "\n",
    "plt.show() \n",
    "\n",
    "\n"
   ]
  },
  {
   "cell_type": "code",
   "execution_count": null,
   "id": "e67111d1",
   "metadata": {},
   "outputs": [],
   "source": []
  },
  {
   "cell_type": "code",
   "execution_count": null,
   "id": "254f8263",
   "metadata": {},
   "outputs": [],
   "source": []
  }
 ],
 "metadata": {
  "kernelspec": {
   "display_name": "redes-neuronales",
   "language": "python",
   "name": "python3"
  },
  "language_info": {
   "codemirror_mode": {
    "name": "ipython",
    "version": 3
   },
   "file_extension": ".py",
   "mimetype": "text/x-python",
   "name": "python",
   "nbconvert_exporter": "python",
   "pygments_lexer": "ipython3",
   "version": "3.12.3"
  }
 },
 "nbformat": 4,
 "nbformat_minor": 5
}
