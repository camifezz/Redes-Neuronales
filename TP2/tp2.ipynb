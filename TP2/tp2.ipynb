{
 "cells": [
  {
   "cell_type": "markdown",
   "id": "9216b7f4",
   "metadata": {},
   "source": [
    "# Trabajo Práctico 2"
   ]
  },
  {
   "cell_type": "markdown",
   "id": "8809e8b7",
   "metadata": {},
   "source": [
    "#### Algunas anotaciones\n",
    "usar un perceptrón simple = 1\n",
    "\n",
    "El bias es un parámetro mas que es optimizable (es constante iteración tras iteración)\n"
   ]
  },
  {
   "cell_type": "markdown",
   "id": "7cd81444",
   "metadata": {},
   "source": [
    "# 1. Implemente un perceptrón simple que aprenda la función lógica AND y la función lógica OR, de 2 y de 4 entradas. Muestre la evolución del error durante el entrenamiento. Para el caso de 2 dimensiones, grafique la recta discriminadora y todos los vectores de entrada de la red."
   ]
  },
  {
   "cell_type": "code",
   "execution_count": 22,
   "id": "b1401555",
   "metadata": {},
   "outputs": [],
   "source": [
    "from itertools import product\n",
    "from typing import List, Tuple\n",
    "import matplotlib.pyplot as plt"
   ]
  },
  {
   "cell_type": "code",
   "execution_count": 11,
   "id": "117c9ba6",
   "metadata": {},
   "outputs": [],
   "source": [
    "def step(z: float) -> int:\n",
    "    \"\"\"\n",
    "    Ultima parte del pipeline, transforma la combinación lineal en una decisión binaria\n",
    "    \"\"\"\n",
    "    return 1 if z >= 0 else 0"
   ]
  },
  {
   "cell_type": "code",
   "execution_count": null,
   "id": "65d4c4f8",
   "metadata": {},
   "outputs": [],
   "source": [
    "# Clase Perceptron\n",
    "class Perceptron:\n",
    "    def __init__(self, n_features: int, learning_rate: float = 0.1, max_ciclos_entrenamiento: int = 1000):\n",
    "        # pesos (vector de tamaño n_features) inicializados en 0\n",
    "        self.weights =  [0.0] * n_features\n",
    "        # bias inicializado en 0. El valor diferente no importa, es justo una combinacion que da mejor, pero no me garantiza convergencia mas rápida otro valor\n",
    "        self.bias :  float = 0.0\n",
    "        # tasa de aprendizaje\n",
    "        self.learning_rate = learning_rate\n",
    "        # max cantidad de ciclos que pueden darse\n",
    "        self.max_ciclos_entrenamiento = max_ciclos_entrenamiento # basicamente para evitar bucles infinitos\n",
    "\n",
    "    def combinacion_lineal(self, x: List[float]) -> float:\n",
    "        \"\"\"\n",
    "        Calcula la combinación lineal:\n",
    "        z = (w1 * x1 + w2 * x2 + ... + wn * xn) + bias\n",
    "        Parametros:\n",
    "        ----------\n",
    "        x: Lista de entradas que recibe el perceptrón, donde x = [0,1] o x = [1,0,0,1] (por ejemplo)\n",
    "        \"\"\"\n",
    "        # producto punto entre weights y x\n",
    "        z = sum(wi * xi for wi, xi in zip(self.weights, x))  \n",
    "        # Le  sumo el bias\n",
    "        z += self.bias\n",
    "        return z\n",
    "\n",
    "    def activacion_sigma(self, x: List[float]) -> int:\n",
    "        \"\"\"\n",
    "        Función de activación sigma. Devuelve 0 o 1\n",
    "        \"\"\"\n",
    "        return step(self.combinacion_lineal(x))\n",
    "\n",
    "    def entrenamiento(self, X: List[List[float]], y: List[int]) -> Tuple[int, List[float]]:\n",
    "        \"\"\"\n",
    "        Entrena con la regla del perceptrón (etiquetas 0/1).\n",
    "        Devuelve:\n",
    "        - epochs_efectivos utilizados\n",
    "        - copia de los pesos finales (el bias se lee en self.bias)\n",
    "        Además guarda la historia de errores por época en self.errores_por_epoca.\n",
    "        \"\"\"\n",
    "        n = len(X)\n",
    "        indices = list(range(n))\n",
    "        self.errores_por_epoca: List[int] = []\n",
    "\n",
    "        for epoch in range(1, self.max_ciclos_entrenamiento + 1):\n",
    "            errors = 0\n",
    "            for i in indices:\n",
    "                xi, yi = X[i], y[i]\n",
    "                y_hat = self.activacion_sigma(xi)   # ¡usar activación, no z crudo!\n",
    "                err = yi - y_hat\n",
    "                if err != 0:\n",
    "                    # Actualización: w <- w + eta * err * x ; b <- b + eta * err\n",
    "                    for k in range(len(xi)):\n",
    "                        self.weights[k] += self.learning_rate * err * xi[k]\n",
    "                    self.bias += self.learning_rate * err\n",
    "                    errors += 1\n",
    "            self.errores_por_epoca.append(errors)\n",
    "            if errors == 0:\n",
    "                return epoch, self.weights[:]  # convergió\n",
    "        return self.max_ciclos_entrenamiento, self.weights[:]\n",
    "\n"
   ]
  },
  {
   "cell_type": "code",
   "execution_count": 47,
   "id": "9c8abb77",
   "metadata": {},
   "outputs": [],
   "source": [
    "# Funciones auxiliares para calcular datasets\n",
    "\n",
    "def generador_dataset_AND(n_bits: int) -> Tuple[List[List[int]], List[int]]:\n",
    "    X = [list(bits) for bits in product([0, 1], repeat=n_bits)]\n",
    "    y = [int(all(bits)) for bits in X]\n",
    "    return X, y\n",
    "\n",
    "def generador_dataset_OR(n_bits: int) -> Tuple[List[List[int]], List[int]]:\n",
    "    X = [list(bits) for bits in product([0, 1], repeat=n_bits)]\n",
    "    y = [int(any(bits)) for bits in X]\n",
    "    return X, y"
   ]
  },
  {
   "cell_type": "code",
   "execution_count": 48,
   "id": "94effa21",
   "metadata": {},
   "outputs": [],
   "source": [
    "# Funcion auxiliar para probar el funcionamiento del Perceptron\n",
    "\n",
    "def evaluate(model: Perceptron, X: List[List[int]], y: List[int], title: str):\n",
    "    print(f\"\\n=== {title} ===\")\n",
    "    correct = 0\n",
    "    for xi, yi in zip(X, y):\n",
    "        yh = model.activacion_sigma(xi)\n",
    "        ok = \"✓\" if yh == yi else \"✗\"\n",
    "        print(f\"x={xi} -> y_hat={yh} (y={yi}) {ok}\")\n",
    "        correct += int(yh == yi)\n",
    "    print(f\"Accuracy: {correct}/{len(X)} = {correct/len(X):.2f}\")\n",
    "    print(f\"weights: {model.weights}, bias: {model.bias}\")\n"
   ]
  },
  {
   "cell_type": "code",
   "execution_count": 49,
   "id": "d9ba5141",
   "metadata": {},
   "outputs": [
    {
     "name": "stdout",
     "output_type": "stream",
     "text": [
      "\n",
      "=== AND (2 entradas) ===\n",
      "x=[0, 0] -> y_hat=0 (y=0) ✓\n",
      "x=[0, 1] -> y_hat=0 (y=0) ✓\n",
      "x=[1, 0] -> y_hat=0 (y=0) ✓\n",
      "x=[1, 1] -> y_hat=1 (y=1) ✓\n",
      "Accuracy: 4/4 = 1.00\n",
      "weights: [0.4, 0.2], bias: -0.4000000000000001\n"
     ]
    }
   ],
   "source": [
    "# AND 2 entradas\n",
    "X2_and, y2_and = generador_dataset_AND(2)\n",
    "p_and2 = Perceptron(n_features=2, learning_rate=0.2, max_ciclos_entrenamiento=100)\n",
    "ep_and2, _ = p_and2.entrenamiento(X2_and, y2_and)\n",
    "evaluate(p_and2, X2_and, y2_and, \"AND (2 entradas)\")"
   ]
  },
  {
   "cell_type": "code",
   "execution_count": 50,
   "id": "e9d6b22d",
   "metadata": {},
   "outputs": [
    {
     "data": {
      "image/png": "[encoded data removed]",
      "text/plain": [
       "<Figure size 640x480 with 1 Axes>"
      ]
     },
     "metadata": {},
     "output_type": "display_data"
    }
   ],
   "source": [
    "# Grafico de evolución del error en AND (2)\n",
    "plt.plot(range(1, len(p_and2.errores_por_epoca)+1), p_and2.errores_por_epoca, marker='o')\n",
    "plt.xlabel('Ciclos'); plt.ylabel('Errores'); plt.title('Evolución del error - AND (2)')\n",
    "plt.grid(True); plt.show()"
   ]
  },
  {
   "cell_type": "code",
   "execution_count": null,
   "id": "5acb435a",
   "metadata": {},
   "outputs": [],
   "source": []
  },
  {
   "cell_type": "code",
   "execution_count": null,
   "id": "abdc740f",
   "metadata": {},
   "outputs": [
    {
     "name": "stdout",
     "output_type": "stream",
     "text": [
      "\n",
      "=== AND (2 entradas) ===\n",
      "x=[0, 0] -> y_hat=0 (y=0) ✓\n",
      "x=[0, 1] -> y_hat=0 (y=0) ✓\n",
      "x=[1, 0] -> y_hat=0 (y=0) ✓\n",
      "x=[1, 1] -> y_hat=1 (y=1) ✓\n",
      "Accuracy: 4/4 = 1.00\n",
      "weights: [0.4, 0.2], bias: -0.4000000000000001\n",
      "\n",
      "=== OR (2 entradas) ===\n",
      "x=[0, 0] -> y_hat=0 (y=0) ✓\n",
      "x=[0, 1] -> y_hat=1 (y=1) ✓\n",
      "x=[1, 0] -> y_hat=1 (y=1) ✓\n",
      "x=[1, 1] -> y_hat=1 (y=1) ✓\n",
      "Accuracy: 4/4 = 1.00\n",
      "weights: [0.2, 0.2], bias: -0.2\n",
      "\n",
      "=== AND (4 entradas) ===\n",
      "x=[0, 0, 0, 0] -> y_hat=0 (y=0) ✓\n",
      "x=[0, 0, 0, 1] -> y_hat=0 (y=0) ✓\n",
      "x=[0, 0, 1, 0] -> y_hat=0 (y=0) ✓\n",
      "x=[0, 0, 1, 1] -> y_hat=0 (y=0) ✓\n",
      "x=[0, 1, 0, 0] -> y_hat=0 (y=0) ✓\n",
      "x=[0, 1, 0, 1] -> y_hat=0 (y=0) ✓\n",
      "x=[0, 1, 1, 0] -> y_hat=0 (y=0) ✓\n",
      "x=[0, 1, 1, 1] -> y_hat=0 (y=0) ✓\n",
      "x=[1, 0, 0, 0] -> y_hat=0 (y=0) ✓\n",
      "x=[1, 0, 0, 1] -> y_hat=0 (y=0) ✓\n",
      "x=[1, 0, 1, 0] -> y_hat=0 (y=0) ✓\n",
      "x=[1, 0, 1, 1] -> y_hat=0 (y=0) ✓\n",
      "x=[1, 1, 0, 0] -> y_hat=0 (y=0) ✓\n",
      "x=[1, 1, 0, 1] -> y_hat=0 (y=0) ✓\n",
      "x=[1, 1, 1, 0] -> y_hat=0 (y=0) ✓\n",
      "x=[1, 1, 1, 1] -> y_hat=1 (y=1) ✓\n",
      "Accuracy: 16/16 = 1.00\n",
      "weights: [0.8, 0.4000000000000001, 0.2, 0.2], bias: -1.5999999999999999\n",
      "\n",
      "=== OR (4 entradas) ===\n",
      "x=[0, 0, 0, 0] -> y_hat=0 (y=0) ✓\n",
      "x=[0, 0, 0, 1] -> y_hat=1 (y=1) ✓\n",
      "x=[0, 0, 1, 0] -> y_hat=1 (y=1) ✓\n",
      "x=[0, 0, 1, 1] -> y_hat=1 (y=1) ✓\n",
      "x=[0, 1, 0, 0] -> y_hat=1 (y=1) ✓\n",
      "x=[0, 1, 0, 1] -> y_hat=1 (y=1) ✓\n",
      "x=[0, 1, 1, 0] -> y_hat=1 (y=1) ✓\n",
      "x=[0, 1, 1, 1] -> y_hat=1 (y=1) ✓\n",
      "x=[1, 0, 0, 0] -> y_hat=1 (y=1) ✓\n",
      "x=[1, 0, 0, 1] -> y_hat=1 (y=1) ✓\n",
      "x=[1, 0, 1, 0] -> y_hat=1 (y=1) ✓\n",
      "x=[1, 0, 1, 1] -> y_hat=1 (y=1) ✓\n",
      "x=[1, 1, 0, 0] -> y_hat=1 (y=1) ✓\n",
      "x=[1, 1, 0, 1] -> y_hat=1 (y=1) ✓\n",
      "x=[1, 1, 1, 0] -> y_hat=1 (y=1) ✓\n",
      "x=[1, 1, 1, 1] -> y_hat=1 (y=1) ✓\n",
      "Accuracy: 16/16 = 1.00\n",
      "weights: [0.2, 0.2, 0.2, 0.2], bias: -0.2\n"
     ]
    }
   ],
   "source": [
    "\n",
    "\n",
    "\n",
    "\n",
    "p_or2 = Perceptron(n_features=2, learning_rate=0.2, max_ciclos_entrenamiento=100)\n",
    "ep_or2, _ = p_or2.entrenamiento(X2_or, y2_or)\n",
    "evaluate(p_or2, X2_or, y2_or, \"OR (2 entradas)\")\n",
    "\n",
    "# AND / OR de 4 entradas\n",
    "X4_and, y4_and = generador_dataset_AND(4)\n",
    "X4_or,  y4_or  = generador_dataset_OR(4)\n",
    "\n",
    "p_and4 = Perceptron(n_features=4, learning_rate=0.2, max_ciclos_entrenamiento=200)\n",
    "ep_and4, _ = p_and4.entrenamiento(X4_and, y4_and)\n",
    "evaluate(p_and4, X4_and, y4_and, \"AND (4 entradas)\")\n",
    "\n",
    "p_or4 = Perceptron(n_features=4, learning_rate=0.2, max_ciclos_entrenamiento=200)\n",
    "ep_or4, _ = p_or4.entrenamiento(X4_or, y4_or)\n",
    "evaluate(p_or4, X4_or, y4_or, \"OR (4 entradas)\")\n"
   ]
  },
  {
   "cell_type": "code",
   "execution_count": null,
   "id": "560bd5a1",
   "metadata": {},
   "outputs": [],
   "source": [
    "\n"
   ]
  },
  {
   "cell_type": "code",
   "execution_count": null,
   "id": "de8137c8",
   "metadata": {},
   "outputs": [],
   "source": []
  }
 ],
 "metadata": {
  "kernelspec": {
   "display_name": "redes-neuronales",
   "language": "python",
   "name": "python3"
  },
  "language_info": {
   "codemirror_mode": {
    "name": "ipython",
    "version": 3
   },
   "file_extension": ".py",
   "mimetype": "text/x-python",
   "name": "python",
   "nbconvert_exporter": "python",
   "pygments_lexer": "ipython3",
   "version": "3.12.3"
  }
 },
 "nbformat": 4,
 "nbformat_minor": 5
}
